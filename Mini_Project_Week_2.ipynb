{
  "nbformat": 4,
  "nbformat_minor": 0,
  "metadata": {
    "colab": {
      "name": "Mini Project_Week 2.ipynb",
      "provenance": [],
      "collapsed_sections": [],
      "authorship_tag": "ABX9TyMWuzyYWUPRQ50jawUZG3+a",
      "include_colab_link": true
    },
    "kernelspec": {
      "name": "python3",
      "display_name": "Python 3"
    },
    "language_info": {
      "name": "python"
    }
  },
  "cells": [
    {
      "cell_type": "markdown",
      "metadata": {
        "id": "view-in-github",
        "colab_type": "text"
      },
      "source": [
        "<a href=\"https://colab.research.google.com/github/odetolataiwo/gradientBoost/blob/main/Mini_Project_Week_2.ipynb\" target=\"_parent\"><img src=\"https://colab.research.google.com/assets/colab-badge.svg\" alt=\"Open In Colab\"/></a>"
      ]
    },
    {
      "cell_type": "markdown",
      "metadata": {
        "id": "K1fW8jOc-W0M"
      },
      "source": [
        "**Introduction**"
      ]
    },
    {
      "cell_type": "code",
      "metadata": {
        "colab": {
          "base_uri": "https://localhost:8080/"
        },
        "id": "sWQDVkvs-Im0",
        "outputId": "2efe9580-0a94-437a-8261-857a2caa4914"
      },
      "source": [
        "#import libraries\n",
        "import time #to delay an action (source:https://www.programiz.com/python-programming/time/sleep)\n",
        "import requests\n",
        "\n",
        "#Print a welcome message and asks the driver for their name.**bold text**\n",
        "\n",
        "print('Welcome to your Weather App for Facade Ventures')\n",
        "name = input('What is your full name? (Format: First Name then Last Name)')\n",
        "print('Welcome, ' + name + '!')\n",
        "\n",
        "#List the cities that Facade ventures is located in\n",
        "list_cities = { 1 : 'Lusaka', 2 : 'Johannesburg', 3 : 'Lagos', 4 : 'Accra'}\n",
        "\n",
        "print('Here are a list of avalaible cities (and countries):')\n",
        "\n",
        "#print the cities (source: https://stackoverflow.com/a/15785785/14037533)\n",
        "for x in list_cities:\n",
        "  print (x, list_cities[x])\n",
        "\n",
        "city_number = input('Enter a number from the options above to select the city you want an info:')\n",
        "city = list_cities[int(city_number)]\n",
        "\n",
        "#getting data via the API (the youtube video was of tremendous help). here's the link: https://www.youtube.com/watch?v=PWZKTWJ9bJE\n",
        "url = 'http://api.openweathermap.org/data/2.5/weather?q={}&appid=54b99b77353285862a12328c23dc0c39&units=metric'.format(city)\n",
        "\n",
        "res = requests.get(url)\n",
        "data = res.json() \n",
        "\n",
        "#saving the data in varaibles \n",
        "location = city + ' ' + data['sys']['country'] \n",
        "desc = data['weather'][0]['description']\n",
        "cloud = data['clouds']['all']\n",
        "min_temp = data['main']['temp_min']\n",
        "max_temp = data['main']['temp_max']\n",
        "wind_speed = data['wind']['speed']\n",
        "pressure = data['main']['pressure']\n",
        "humidity = data['main']['humidity']\n",
        "lat = data['coord']['lat']\n",
        "lon = data['coord']['lon']\n",
        "\n",
        "\n",
        "#printing the results\n",
        "print('Getting info on {}...'.format(location))\n",
        "time.sleep(3) #delay the process so it comes out as a real-life result\n",
        "print('You have asked for weather information on {}'.format(location))\n",
        "time.sleep(1.3)\n",
        "print('Please be patient while we attend to your request...')\n",
        "time.sleep(6)\n",
        "print('Today\\'s forecast for {} is {}'.format(location, desc))\n",
        "time.sleep(1.3)\n",
        "print('It is also {}% cloudy today in {}'.format(cloud, location))\n",
        "time.sleep(1.3)\n",
        "print('With a minimum temperature of {} degrees Celcius'.format(min_temp))\n",
        "time.sleep(1.3)\n",
        "print('And a maximum temperature of {} degrees Celcius'.format(max_temp))\n",
        "time.sleep(1.3)\n",
        "print('The wind blows at {}m/s'.format(wind_speed))\n",
        "time.sleep(1.3)\n",
        "print('The Pressure at {} is {} hPa'.format(location, pressure))\n",
        "time.sleep(1.3)\n",
        "print('It is {}% humid'.format(humidity))\n",
        "time.sleep(1.3)\n",
        "print('{} is located at latitude {} and longitude {}'.format(location, lat, lon))\n",
        "time.sleep(1.3)\n",
        "print('REQUEST COMPLETED!!!')"
      ],
      "execution_count": 49,
      "outputs": [
        {
          "output_type": "stream",
          "text": [
            "Welcome to your Weather App for Facade Ventures\n",
            "What is your full name? (Format: First Name then Last Name)Taiwo Odetola\n",
            "Welcome, Taiwo Odetola!\n",
            "Here are a list of avalaible cities (and countries):\n",
            "1 Lusaka\n",
            "2 Johannesburg\n",
            "3 Lagos\n",
            "4 Accra\n",
            "Enter a number from the options above to select the city you want an info:3\n",
            "Getting info on Lagos NG...\n",
            "You have asked for weather information on Lagos NG\n",
            "Please be patient while we attend to your request...\n",
            "Today's forecast for Lagos NG is few clouds\n",
            "It is also 20% cloudy today in Lagos NG\n",
            "With a minimum temperature of 26 degrees Celcius\n",
            "And a maximum temperature of 26 degrees Celcius\n",
            "The wind blows at 1.13m/s\n",
            "The Pressure at Lagos NG is 1010 hPa\n",
            "It is 94% humid\n",
            "Lagos NG is located at latitude 6.5833 and longitude 3.75\n",
            "REQUEST COMPLETED!!!\n"
          ],
          "name": "stdout"
        }
      ]
    }
  ]
}