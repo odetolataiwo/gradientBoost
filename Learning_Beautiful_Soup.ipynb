{
  "nbformat": 4,
  "nbformat_minor": 0,
  "metadata": {
    "colab": {
      "name": "Learning Beautiful Soup.ipynb",
      "provenance": [],
      "authorship_tag": "ABX9TyN/2JGpEAH3pFwqGcWY/4gg",
      "include_colab_link": true
    },
    "kernelspec": {
      "name": "python3",
      "display_name": "Python 3"
    },
    "language_info": {
      "name": "python"
    }
  },
  "cells": [
    {
      "cell_type": "markdown",
      "metadata": {
        "id": "view-in-github",
        "colab_type": "text"
      },
      "source": [
        "<a href=\"https://colab.research.google.com/github/odetolataiwo/gradientBoost/blob/main/Learning_Beautiful_Soup.ipynb\" target=\"_parent\"><img src=\"https://colab.research.google.com/assets/colab-badge.svg\" alt=\"Open In Colab\"/></a>"
      ]
    },
    {
      "cell_type": "markdown",
      "metadata": {
        "id": "us5oRKCqw7MA"
      },
      "source": [
        "# **Learning BeautifulSoup**"
      ]
    },
    {
      "cell_type": "code",
      "metadata": {
        "id": "tcdMRy5rw6S0"
      },
      "source": [
        "# import libraries\n",
        "\n",
        "from urllib.request import urlopen\n",
        "from urllib.error import HTTPError\n",
        "from bs4 import BeautifulSoup"
      ],
      "execution_count": 4,
      "outputs": []
    },
    {
      "cell_type": "markdown",
      "metadata": {
        "id": "q6ib_f3AxILO"
      },
      "source": [
        "Handling Exceptions"
      ]
    },
    {
      "cell_type": "code",
      "metadata": {
        "colab": {
          "base_uri": "https://localhost:8080/"
        },
        "id": "tuqtZW-GxgYo",
        "outputId": "a9334754-5d33-479e-d6ac-86c70e4a42bb"
      },
      "source": [
        "def getTitle(url):\n",
        "  try:\n",
        "    html = urlopen(url)\n",
        "  except HTTPError as e:\n",
        "    return None\n",
        "  \n",
        "  try:\n",
        "    bsObj = BeautifulSoup(html.read(), \"lxml\")\n",
        "    title = bsObj.body.h1\n",
        "  except AttributeError as e:\n",
        "    return None\n",
        "  return title\n",
        "\n",
        "title = getTitle(\"http://www.pythonscraping.com/pages/page1.html\")\n",
        "if title == None:\n",
        "  print(\"Title could not be found\")\n",
        "else:\n",
        "  print(title)"
      ],
      "execution_count": 2,
      "outputs": [
        {
          "output_type": "stream",
          "text": [
            "<h1>An Interesting Title</h1>\n"
          ],
          "name": "stdout"
        }
      ]
    },
    {
      "cell_type": "markdown",
      "metadata": {
        "id": "yhRUD5wE0uBO"
      },
      "source": [
        "Getting a Particular CSS attriute"
      ]
    },
    {
      "cell_type": "code",
      "metadata": {
        "colab": {
          "base_uri": "https://localhost:8080/"
        },
        "id": "UNeNFEUByji-",
        "outputId": "7d3d14b2-e263-411b-d279-c29de5c6f94e"
      },
      "source": [
        "html = urlopen(\"http://www.pythonscraping.com/pages/warandpeace.html\")\n",
        "bsObj = BeautifulSoup(html, \"lxml\")\n",
        "nameList = bsObj.findAll(\"span\", {\"class\": \"green\"})\n",
        "\n",
        "for name in nameList:\n",
        "  print(name.get_text())"
      ],
      "execution_count": 3,
      "outputs": [
        {
          "output_type": "stream",
          "text": [
            "Anna\n",
            "Pavlovna Scherer\n",
            "Empress Marya\n",
            "Fedorovna\n",
            "Prince Vasili Kuragin\n",
            "Anna Pavlovna\n",
            "St. Petersburg\n",
            "the prince\n",
            "Anna Pavlovna\n",
            "Anna Pavlovna\n",
            "the prince\n",
            "the prince\n",
            "the prince\n",
            "Prince Vasili\n",
            "Anna Pavlovna\n",
            "Anna Pavlovna\n",
            "the prince\n",
            "Wintzingerode\n",
            "King of Prussia\n",
            "le Vicomte de Mortemart\n",
            "Montmorencys\n",
            "Rohans\n",
            "Abbe Morio\n",
            "the Emperor\n",
            "the prince\n",
            "Prince Vasili\n",
            "Dowager Empress Marya Fedorovna\n",
            "the baron\n",
            "Anna Pavlovna\n",
            "the Empress\n",
            "the Empress\n",
            "Anna Pavlovna's\n",
            "Her Majesty\n",
            "Baron\n",
            "Funke\n",
            "The prince\n",
            "Anna\n",
            "Pavlovna\n",
            "the Empress\n",
            "The prince\n",
            "Anatole\n",
            "the prince\n",
            "The prince\n",
            "Anna\n",
            "Pavlovna\n",
            "Anna Pavlovna\n"
          ],
          "name": "stdout"
        }
      ]
    },
    {
      "cell_type": "markdown",
      "metadata": {
        "id": "WWL4wqQGGetl"
      },
      "source": [
        "Navigating Trees"
      ]
    },
    {
      "cell_type": "code",
      "metadata": {
        "colab": {
          "base_uri": "https://localhost:8080/"
        },
        "id": "lk5OK34v1VEe",
        "outputId": "605df7a3-a061-4296-e3d6-24ec877c7569"
      },
      "source": [
        "html = urlopen(\"http://www.pythonscraping.com/pages/page3.html\")\n",
        "bsObj = BeautifulSoup(html, \"lxml\")\n",
        "\n",
        "for child in bsObj.find(\"table\", {\"id\": \"giftList\"}).children:\n",
        "  print(child)"
      ],
      "execution_count": 5,
      "outputs": [
        {
          "output_type": "stream",
          "text": [
            "\n",
            "\n",
            "<tr><th>\n",
            "Item Title\n",
            "</th><th>\n",
            "Description\n",
            "</th><th>\n",
            "Cost\n",
            "</th><th>\n",
            "Image\n",
            "</th></tr>\n",
            "\n",
            "\n",
            "<tr class=\"gift\" id=\"gift1\"><td>\n",
            "Vegetable Basket\n",
            "</td><td>\n",
            "This vegetable basket is the perfect gift for your health conscious (or overweight) friends!\n",
            "<span class=\"excitingNote\">Now with super-colorful bell peppers!</span>\n",
            "</td><td>\n",
            "$15.00\n",
            "</td><td>\n",
            "<img src=\"../img/gifts/img1.jpg\"/>\n",
            "</td></tr>\n",
            "\n",
            "\n",
            "<tr class=\"gift\" id=\"gift2\"><td>\n",
            "Russian Nesting Dolls\n",
            "</td><td>\n",
            "Hand-painted by trained monkeys, these exquisite dolls are priceless! And by \"priceless,\" we mean \"extremely expensive\"! <span class=\"excitingNote\">8 entire dolls per set! Octuple the presents!</span>\n",
            "</td><td>\n",
            "$10,000.52\n",
            "</td><td>\n",
            "<img src=\"../img/gifts/img2.jpg\"/>\n",
            "</td></tr>\n",
            "\n",
            "\n",
            "<tr class=\"gift\" id=\"gift3\"><td>\n",
            "Fish Painting\n",
            "</td><td>\n",
            "If something seems fishy about this painting, it's because it's a fish! <span class=\"excitingNote\">Also hand-painted by trained monkeys!</span>\n",
            "</td><td>\n",
            "$10,005.00\n",
            "</td><td>\n",
            "<img src=\"../img/gifts/img3.jpg\"/>\n",
            "</td></tr>\n",
            "\n",
            "\n",
            "<tr class=\"gift\" id=\"gift4\"><td>\n",
            "Dead Parrot\n",
            "</td><td>\n",
            "This is an ex-parrot! <span class=\"excitingNote\">Or maybe he's only resting?</span>\n",
            "</td><td>\n",
            "$0.50\n",
            "</td><td>\n",
            "<img src=\"../img/gifts/img4.jpg\"/>\n",
            "</td></tr>\n",
            "\n",
            "\n",
            "<tr class=\"gift\" id=\"gift5\"><td>\n",
            "Mystery Box\n",
            "</td><td>\n",
            "If you love suprises, this mystery box is for you! Do not place on light-colored surfaces. May cause oil staining. <span class=\"excitingNote\">Keep your friends guessing!</span>\n",
            "</td><td>\n",
            "$1.50\n",
            "</td><td>\n",
            "<img src=\"../img/gifts/img6.jpg\"/>\n",
            "</td></tr>\n",
            "\n",
            "\n"
          ],
          "name": "stdout"
        }
      ]
    },
    {
      "cell_type": "code",
      "metadata": {
        "colab": {
          "base_uri": "https://localhost:8080/"
        },
        "id": "8uF8XYNRHA-u",
        "outputId": "024cb67c-538f-4e4a-85eb-e152bbc76fd4"
      },
      "source": [
        "for child in bsObj.find(\"table\", {\"id\": \"giftList\"}).descendants:\n",
        "  print(child)"
      ],
      "execution_count": 7,
      "outputs": [
        {
          "output_type": "stream",
          "text": [
            "\n",
            "\n",
            "<tr><th>\n",
            "Item Title\n",
            "</th><th>\n",
            "Description\n",
            "</th><th>\n",
            "Cost\n",
            "</th><th>\n",
            "Image\n",
            "</th></tr>\n",
            "<th>\n",
            "Item Title\n",
            "</th>\n",
            "\n",
            "Item Title\n",
            "\n",
            "<th>\n",
            "Description\n",
            "</th>\n",
            "\n",
            "Description\n",
            "\n",
            "<th>\n",
            "Cost\n",
            "</th>\n",
            "\n",
            "Cost\n",
            "\n",
            "<th>\n",
            "Image\n",
            "</th>\n",
            "\n",
            "Image\n",
            "\n",
            "\n",
            "\n",
            "<tr class=\"gift\" id=\"gift1\"><td>\n",
            "Vegetable Basket\n",
            "</td><td>\n",
            "This vegetable basket is the perfect gift for your health conscious (or overweight) friends!\n",
            "<span class=\"excitingNote\">Now with super-colorful bell peppers!</span>\n",
            "</td><td>\n",
            "$15.00\n",
            "</td><td>\n",
            "<img src=\"../img/gifts/img1.jpg\"/>\n",
            "</td></tr>\n",
            "<td>\n",
            "Vegetable Basket\n",
            "</td>\n",
            "\n",
            "Vegetable Basket\n",
            "\n",
            "<td>\n",
            "This vegetable basket is the perfect gift for your health conscious (or overweight) friends!\n",
            "<span class=\"excitingNote\">Now with super-colorful bell peppers!</span>\n",
            "</td>\n",
            "\n",
            "This vegetable basket is the perfect gift for your health conscious (or overweight) friends!\n",
            "\n",
            "<span class=\"excitingNote\">Now with super-colorful bell peppers!</span>\n",
            "Now with super-colorful bell peppers!\n",
            "\n",
            "\n",
            "<td>\n",
            "$15.00\n",
            "</td>\n",
            "\n",
            "$15.00\n",
            "\n",
            "<td>\n",
            "<img src=\"../img/gifts/img1.jpg\"/>\n",
            "</td>\n",
            "\n",
            "\n",
            "<img src=\"../img/gifts/img1.jpg\"/>\n",
            "\n",
            "\n",
            "\n",
            "\n",
            "<tr class=\"gift\" id=\"gift2\"><td>\n",
            "Russian Nesting Dolls\n",
            "</td><td>\n",
            "Hand-painted by trained monkeys, these exquisite dolls are priceless! And by \"priceless,\" we mean \"extremely expensive\"! <span class=\"excitingNote\">8 entire dolls per set! Octuple the presents!</span>\n",
            "</td><td>\n",
            "$10,000.52\n",
            "</td><td>\n",
            "<img src=\"../img/gifts/img2.jpg\"/>\n",
            "</td></tr>\n",
            "<td>\n",
            "Russian Nesting Dolls\n",
            "</td>\n",
            "\n",
            "Russian Nesting Dolls\n",
            "\n",
            "<td>\n",
            "Hand-painted by trained monkeys, these exquisite dolls are priceless! And by \"priceless,\" we mean \"extremely expensive\"! <span class=\"excitingNote\">8 entire dolls per set! Octuple the presents!</span>\n",
            "</td>\n",
            "\n",
            "Hand-painted by trained monkeys, these exquisite dolls are priceless! And by \"priceless,\" we mean \"extremely expensive\"! \n",
            "<span class=\"excitingNote\">8 entire dolls per set! Octuple the presents!</span>\n",
            "8 entire dolls per set! Octuple the presents!\n",
            "\n",
            "\n",
            "<td>\n",
            "$10,000.52\n",
            "</td>\n",
            "\n",
            "$10,000.52\n",
            "\n",
            "<td>\n",
            "<img src=\"../img/gifts/img2.jpg\"/>\n",
            "</td>\n",
            "\n",
            "\n",
            "<img src=\"../img/gifts/img2.jpg\"/>\n",
            "\n",
            "\n",
            "\n",
            "\n",
            "<tr class=\"gift\" id=\"gift3\"><td>\n",
            "Fish Painting\n",
            "</td><td>\n",
            "If something seems fishy about this painting, it's because it's a fish! <span class=\"excitingNote\">Also hand-painted by trained monkeys!</span>\n",
            "</td><td>\n",
            "$10,005.00\n",
            "</td><td>\n",
            "<img src=\"../img/gifts/img3.jpg\"/>\n",
            "</td></tr>\n",
            "<td>\n",
            "Fish Painting\n",
            "</td>\n",
            "\n",
            "Fish Painting\n",
            "\n",
            "<td>\n",
            "If something seems fishy about this painting, it's because it's a fish! <span class=\"excitingNote\">Also hand-painted by trained monkeys!</span>\n",
            "</td>\n",
            "\n",
            "If something seems fishy about this painting, it's because it's a fish! \n",
            "<span class=\"excitingNote\">Also hand-painted by trained monkeys!</span>\n",
            "Also hand-painted by trained monkeys!\n",
            "\n",
            "\n",
            "<td>\n",
            "$10,005.00\n",
            "</td>\n",
            "\n",
            "$10,005.00\n",
            "\n",
            "<td>\n",
            "<img src=\"../img/gifts/img3.jpg\"/>\n",
            "</td>\n",
            "\n",
            "\n",
            "<img src=\"../img/gifts/img3.jpg\"/>\n",
            "\n",
            "\n",
            "\n",
            "\n",
            "<tr class=\"gift\" id=\"gift4\"><td>\n",
            "Dead Parrot\n",
            "</td><td>\n",
            "This is an ex-parrot! <span class=\"excitingNote\">Or maybe he's only resting?</span>\n",
            "</td><td>\n",
            "$0.50\n",
            "</td><td>\n",
            "<img src=\"../img/gifts/img4.jpg\"/>\n",
            "</td></tr>\n",
            "<td>\n",
            "Dead Parrot\n",
            "</td>\n",
            "\n",
            "Dead Parrot\n",
            "\n",
            "<td>\n",
            "This is an ex-parrot! <span class=\"excitingNote\">Or maybe he's only resting?</span>\n",
            "</td>\n",
            "\n",
            "This is an ex-parrot! \n",
            "<span class=\"excitingNote\">Or maybe he's only resting?</span>\n",
            "Or maybe he's only resting?\n",
            "\n",
            "\n",
            "<td>\n",
            "$0.50\n",
            "</td>\n",
            "\n",
            "$0.50\n",
            "\n",
            "<td>\n",
            "<img src=\"../img/gifts/img4.jpg\"/>\n",
            "</td>\n",
            "\n",
            "\n",
            "<img src=\"../img/gifts/img4.jpg\"/>\n",
            "\n",
            "\n",
            "\n",
            "\n",
            "<tr class=\"gift\" id=\"gift5\"><td>\n",
            "Mystery Box\n",
            "</td><td>\n",
            "If you love suprises, this mystery box is for you! Do not place on light-colored surfaces. May cause oil staining. <span class=\"excitingNote\">Keep your friends guessing!</span>\n",
            "</td><td>\n",
            "$1.50\n",
            "</td><td>\n",
            "<img src=\"../img/gifts/img6.jpg\"/>\n",
            "</td></tr>\n",
            "<td>\n",
            "Mystery Box\n",
            "</td>\n",
            "\n",
            "Mystery Box\n",
            "\n",
            "<td>\n",
            "If you love suprises, this mystery box is for you! Do not place on light-colored surfaces. May cause oil staining. <span class=\"excitingNote\">Keep your friends guessing!</span>\n",
            "</td>\n",
            "\n",
            "If you love suprises, this mystery box is for you! Do not place on light-colored surfaces. May cause oil staining. \n",
            "<span class=\"excitingNote\">Keep your friends guessing!</span>\n",
            "Keep your friends guessing!\n",
            "\n",
            "\n",
            "<td>\n",
            "$1.50\n",
            "</td>\n",
            "\n",
            "$1.50\n",
            "\n",
            "<td>\n",
            "<img src=\"../img/gifts/img6.jpg\"/>\n",
            "</td>\n",
            "\n",
            "\n",
            "<img src=\"../img/gifts/img6.jpg\"/>\n",
            "\n",
            "\n",
            "\n",
            "\n"
          ],
          "name": "stdout"
        }
      ]
    },
    {
      "cell_type": "code",
      "metadata": {
        "colab": {
          "base_uri": "https://localhost:8080/"
        },
        "id": "vVRir1t8HWpn",
        "outputId": "6513a89e-7471-4d30-d4f0-bca8fe71f894"
      },
      "source": [
        "# getting siblings of tags\n",
        "for siblings in bsObj.find(\"table\", {\"id\": \"giftList\"}).tr.next_siblings: #you can also use \"previous_siblings\" \n",
        "  print(siblings)"
      ],
      "execution_count": 8,
      "outputs": [
        {
          "output_type": "stream",
          "text": [
            "\n",
            "\n",
            "<tr class=\"gift\" id=\"gift1\"><td>\n",
            "Vegetable Basket\n",
            "</td><td>\n",
            "This vegetable basket is the perfect gift for your health conscious (or overweight) friends!\n",
            "<span class=\"excitingNote\">Now with super-colorful bell peppers!</span>\n",
            "</td><td>\n",
            "$15.00\n",
            "</td><td>\n",
            "<img src=\"../img/gifts/img1.jpg\"/>\n",
            "</td></tr>\n",
            "\n",
            "\n",
            "<tr class=\"gift\" id=\"gift2\"><td>\n",
            "Russian Nesting Dolls\n",
            "</td><td>\n",
            "Hand-painted by trained monkeys, these exquisite dolls are priceless! And by \"priceless,\" we mean \"extremely expensive\"! <span class=\"excitingNote\">8 entire dolls per set! Octuple the presents!</span>\n",
            "</td><td>\n",
            "$10,000.52\n",
            "</td><td>\n",
            "<img src=\"../img/gifts/img2.jpg\"/>\n",
            "</td></tr>\n",
            "\n",
            "\n",
            "<tr class=\"gift\" id=\"gift3\"><td>\n",
            "Fish Painting\n",
            "</td><td>\n",
            "If something seems fishy about this painting, it's because it's a fish! <span class=\"excitingNote\">Also hand-painted by trained monkeys!</span>\n",
            "</td><td>\n",
            "$10,005.00\n",
            "</td><td>\n",
            "<img src=\"../img/gifts/img3.jpg\"/>\n",
            "</td></tr>\n",
            "\n",
            "\n",
            "<tr class=\"gift\" id=\"gift4\"><td>\n",
            "Dead Parrot\n",
            "</td><td>\n",
            "This is an ex-parrot! <span class=\"excitingNote\">Or maybe he's only resting?</span>\n",
            "</td><td>\n",
            "$0.50\n",
            "</td><td>\n",
            "<img src=\"../img/gifts/img4.jpg\"/>\n",
            "</td></tr>\n",
            "\n",
            "\n",
            "<tr class=\"gift\" id=\"gift5\"><td>\n",
            "Mystery Box\n",
            "</td><td>\n",
            "If you love suprises, this mystery box is for you! Do not place on light-colored surfaces. May cause oil staining. <span class=\"excitingNote\">Keep your friends guessing!</span>\n",
            "</td><td>\n",
            "$1.50\n",
            "</td><td>\n",
            "<img src=\"../img/gifts/img6.jpg\"/>\n",
            "</td></tr>\n",
            "\n",
            "\n"
          ],
          "name": "stdout"
        }
      ]
    },
    {
      "cell_type": "code",
      "metadata": {
        "colab": {
          "base_uri": "https://localhost:8080/"
        },
        "id": "NKsJUBDzIXPy",
        "outputId": "b966f5c9-5fa5-4f9b-e579-304070ba4629"
      },
      "source": [
        "print(bsObj.find(\"img\", {\"src\":\"../img/gifts/img1.jpg\"}).parent.previous_sibling.get_text()) #gets the parent of the tag"
      ],
      "execution_count": 11,
      "outputs": [
        {
          "output_type": "stream",
          "text": [
            "\n",
            "$15.00\n",
            "\n"
          ],
          "name": "stdout"
        }
      ]
    },
    {
      "cell_type": "code",
      "metadata": {
        "id": "DlRBZZdHJgDb"
      },
      "source": [
        ""
      ],
      "execution_count": null,
      "outputs": []
    }
  ]
}